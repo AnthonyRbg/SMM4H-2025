{
 "cells": [
  {
   "cell_type": "code",
   "execution_count": 2,
   "metadata": {},
   "outputs": [],
   "source": [
    "import sys\n",
    "import os\n",
    "sys.path.append(os.path.abspath('../'))"
   ]
  },
  {
   "cell_type": "code",
   "execution_count": 3,
   "metadata": {},
   "outputs": [
    {
     "name": "stdout",
     "output_type": "stream",
     "text": [
      "Successfully loaded 20 records from /home/ubuntu/SSM/validation/combined_insomnia_data_validation.csv\n"
     ]
    },
    {
     "data": {
      "application/vnd.jupyter.widget-view+json": {
       "model_id": "2fdc422eca5b42cd9b5f4f13ffebf0c7",
       "version_major": 2,
       "version_minor": 0
      },
      "text/plain": [
       "Loading checkpoint shards:   0%|          | 0/2 [00:00<?, ?it/s]"
      ]
     },
     "metadata": {},
     "output_type": "display_data"
    },
    {
     "name": "stdout",
     "output_type": "stream",
     "text": [
      "Model loaded on cuda\n"
     ]
    }
   ],
   "source": [
    "from src import load_data, InsomniaClassifier, convert_output_to_json\n",
    "\n",
    "val_path = \"/home/ubuntu/SSM/validation/combined_insomnia_data_validation.csv\"\n",
    "df = load_data(val_path)\n",
    "clinical_notes = df['text'].tolist()\n",
    "classifier = InsomniaClassifier()\n",
    "\n",
    "classification_results = []\n",
    "extracted_texts = []"
   ]
  },
  {
   "cell_type": "code",
   "execution_count": 4,
   "metadata": {},
   "outputs": [
    {
     "data": {
      "text/html": [
       "<div>\n",
       "<style scoped>\n",
       "    .dataframe tbody tr th:only-of-type {\n",
       "        vertical-align: middle;\n",
       "    }\n",
       "\n",
       "    .dataframe tbody tr th {\n",
       "        vertical-align: top;\n",
       "    }\n",
       "\n",
       "    .dataframe thead th {\n",
       "        text-align: right;\n",
       "    }\n",
       "</style>\n",
       "<table border=\"1\" class=\"dataframe\">\n",
       "  <thead>\n",
       "    <tr style=\"text-align: right;\">\n",
       "      <th></th>\n",
       "      <th>note_id</th>\n",
       "      <th>text</th>\n",
       "      <th>Definition 1</th>\n",
       "      <th>Definition 2</th>\n",
       "      <th>Rule A</th>\n",
       "      <th>Rule B</th>\n",
       "      <th>Rule C</th>\n",
       "      <th>Insomnia</th>\n",
       "    </tr>\n",
       "  </thead>\n",
       "  <tbody>\n",
       "    <tr>\n",
       "      <th>0</th>\n",
       "      <td>1280230</td>\n",
       "      <td>female patient in sixties prescribed no drugs\\...</td>\n",
       "      <td>yes</td>\n",
       "      <td>no</td>\n",
       "      <td>no</td>\n",
       "      <td>no</td>\n",
       "      <td>no</td>\n",
       "      <td>no</td>\n",
       "    </tr>\n",
       "    <tr>\n",
       "      <th>1</th>\n",
       "      <td>1286616</td>\n",
       "      <td>male patient in fifties prescribed no drugs\\n\\...</td>\n",
       "      <td>yes</td>\n",
       "      <td>yes</td>\n",
       "      <td>yes</td>\n",
       "      <td>no</td>\n",
       "      <td>yes</td>\n",
       "      <td>yes</td>\n",
       "    </tr>\n",
       "    <tr>\n",
       "      <th>2</th>\n",
       "      <td>1291281</td>\n",
       "      <td>female patient in seventies prescribed no drug...</td>\n",
       "      <td>no</td>\n",
       "      <td>no</td>\n",
       "      <td>no</td>\n",
       "      <td>no</td>\n",
       "      <td>no</td>\n",
       "      <td>no</td>\n",
       "    </tr>\n",
       "    <tr>\n",
       "      <th>3</th>\n",
       "      <td>1293851</td>\n",
       "      <td>female patient in seventies prescribed Nitrogl...</td>\n",
       "      <td>yes</td>\n",
       "      <td>yes</td>\n",
       "      <td>yes</td>\n",
       "      <td>yes</td>\n",
       "      <td>yes</td>\n",
       "      <td>yes</td>\n",
       "    </tr>\n",
       "    <tr>\n",
       "      <th>4</th>\n",
       "      <td>1295870</td>\n",
       "      <td>male patient in seventies prescribed Pantopraz...</td>\n",
       "      <td>yes</td>\n",
       "      <td>yes</td>\n",
       "      <td>yes</td>\n",
       "      <td>no</td>\n",
       "      <td>yes</td>\n",
       "      <td>yes</td>\n",
       "    </tr>\n",
       "  </tbody>\n",
       "</table>\n",
       "</div>"
      ],
      "text/plain": [
       "   note_id                                               text Definition 1  \\\n",
       "0  1280230  female patient in sixties prescribed no drugs\\...          yes   \n",
       "1  1286616  male patient in fifties prescribed no drugs\\n\\...          yes   \n",
       "2  1291281  female patient in seventies prescribed no drug...           no   \n",
       "3  1293851  female patient in seventies prescribed Nitrogl...          yes   \n",
       "4  1295870  male patient in seventies prescribed Pantopraz...          yes   \n",
       "\n",
       "  Definition 2 Rule A Rule B Rule C Insomnia  \n",
       "0           no     no     no     no       no  \n",
       "1          yes    yes     no    yes      yes  \n",
       "2           no     no     no     no       no  \n",
       "3          yes    yes    yes    yes      yes  \n",
       "4          yes    yes     no    yes      yes  "
      ]
     },
     "execution_count": 4,
     "metadata": {},
     "output_type": "execute_result"
    }
   ],
   "source": [
    "df.head()"
   ]
  },
  {
   "cell_type": "code",
   "execution_count": 6,
   "metadata": {},
   "outputs": [],
   "source": [
    "\n",
    "# Process each clinical note with exception handling\n",
    "for idx, clinical_note in enumerate(clinical_notes):\n",
    "    try:\n",
    "        classification, extracted = classifier.classify(clinical_note)\n",
    "        classification_results.append(classification)\n",
    "        extracted_texts.append(extracted)\n",
    "    except RuntimeError as e:\n",
    "        print(f\"RuntimeError for text at index {idx}: {e}\")\n",
    "        # Append default classifications and empty extracted text on error\n",
    "        classification_results.append({\n",
    "            \"Definition 1 (Sleep Difficulty)\": \"no\",\n",
    "            \"Definition 2 (Daytime Impairment)\": \"no\",\n",
    "            \"Rule A (Insomnia Diagnosis)\": \"no\",\n",
    "            \"Rule B (Primary Medications)\": \"no\",\n",
    "            \"Rule C (Secondary Medications)\": \"no\",\n",
    "            \"Final Insomnia Status\": \"no\"\n",
    "        })\n",
    "        extracted_texts.append({\n",
    "            \"Definition 1 Extracted\": \"\",\n",
    "            \"Definition 2 Extracted\": \"\",\n",
    "            \"Rule A Extracted\": \"\",\n",
    "            \"Rule B Extracted\": \"\",\n",
    "            \"Rule C Extracted\": \"\"\n",
    "        })"
   ]
  },
  {
   "cell_type": "code",
   "execution_count": 7,
   "metadata": {},
   "outputs": [],
   "source": [
    "import pandas as pd\n",
    "# Convert results to DataFrames\n",
    "df_classification = pd.DataFrame(classification_results)\n",
    "df_extracted = pd.DataFrame(extracted_texts)\n",
    "\n",
    "# Combine all DataFrames\n",
    "df_final = pd.concat([df[['text', 'note_id']], df_classification, df_extracted], axis=1)\n",
    "\n",
    "# Rename columns to match expected names for JSON conversion\n",
    "df_final = df_final.rename(columns={\n",
    "    \"Definition 1 (Sleep Difficulty)\": \"Definition 1 Pred\",\n",
    "    \"Definition 2 (Daytime Impairment)\": \"Definition 2 Pred\",\n",
    "    \"Rule A (Insomnia Diagnosis)\": \"Rule A Pred\",\n",
    "    \"Rule B (Primary Medications)\": \"Rule B Pred\",\n",
    "    \"Rule C (Secondary Medications)\": \"Rule C Pred\",\n",
    "    \"Final Insomnia Status\": \"Insomnia Pred\",\n",
    "    \"Definition 1 Extracted\": \"Definition 1 Evidence\",\n",
    "    \"Definition 2 Extracted\": \"Definition 2 Evidence\",\n",
    "    \"Rule B Extracted\": \"Rule B Evidence\",\n",
    "    \"Rule C Extracted\": \"Rule C Evidence\"\n",
    "})"
   ]
  },
  {
   "cell_type": "code",
   "execution_count": 8,
   "metadata": {},
   "outputs": [
    {
     "data": {
      "text/html": [
       "<div>\n",
       "<style scoped>\n",
       "    .dataframe tbody tr th:only-of-type {\n",
       "        vertical-align: middle;\n",
       "    }\n",
       "\n",
       "    .dataframe tbody tr th {\n",
       "        vertical-align: top;\n",
       "    }\n",
       "\n",
       "    .dataframe thead th {\n",
       "        text-align: right;\n",
       "    }\n",
       "</style>\n",
       "<table border=\"1\" class=\"dataframe\">\n",
       "  <thead>\n",
       "    <tr style=\"text-align: right;\">\n",
       "      <th></th>\n",
       "      <th>note_id</th>\n",
       "      <th>text</th>\n",
       "      <th>Definition 1</th>\n",
       "      <th>Definition 2</th>\n",
       "      <th>Rule A</th>\n",
       "      <th>Rule B</th>\n",
       "      <th>Rule C</th>\n",
       "      <th>Insomnia</th>\n",
       "    </tr>\n",
       "  </thead>\n",
       "  <tbody>\n",
       "    <tr>\n",
       "      <th>0</th>\n",
       "      <td>1280230</td>\n",
       "      <td>female patient in sixties prescribed no drugs\\...</td>\n",
       "      <td>yes</td>\n",
       "      <td>no</td>\n",
       "      <td>no</td>\n",
       "      <td>no</td>\n",
       "      <td>no</td>\n",
       "      <td>no</td>\n",
       "    </tr>\n",
       "    <tr>\n",
       "      <th>1</th>\n",
       "      <td>1286616</td>\n",
       "      <td>male patient in fifties prescribed no drugs\\n\\...</td>\n",
       "      <td>yes</td>\n",
       "      <td>yes</td>\n",
       "      <td>yes</td>\n",
       "      <td>no</td>\n",
       "      <td>yes</td>\n",
       "      <td>yes</td>\n",
       "    </tr>\n",
       "    <tr>\n",
       "      <th>2</th>\n",
       "      <td>1291281</td>\n",
       "      <td>female patient in seventies prescribed no drug...</td>\n",
       "      <td>no</td>\n",
       "      <td>no</td>\n",
       "      <td>no</td>\n",
       "      <td>no</td>\n",
       "      <td>no</td>\n",
       "      <td>no</td>\n",
       "    </tr>\n",
       "    <tr>\n",
       "      <th>3</th>\n",
       "      <td>1293851</td>\n",
       "      <td>female patient in seventies prescribed Nitrogl...</td>\n",
       "      <td>yes</td>\n",
       "      <td>yes</td>\n",
       "      <td>yes</td>\n",
       "      <td>yes</td>\n",
       "      <td>yes</td>\n",
       "      <td>yes</td>\n",
       "    </tr>\n",
       "    <tr>\n",
       "      <th>4</th>\n",
       "      <td>1295870</td>\n",
       "      <td>male patient in seventies prescribed Pantopraz...</td>\n",
       "      <td>yes</td>\n",
       "      <td>yes</td>\n",
       "      <td>yes</td>\n",
       "      <td>no</td>\n",
       "      <td>yes</td>\n",
       "      <td>yes</td>\n",
       "    </tr>\n",
       "  </tbody>\n",
       "</table>\n",
       "</div>"
      ],
      "text/plain": [
       "   note_id                                               text Definition 1  \\\n",
       "0  1280230  female patient in sixties prescribed no drugs\\...          yes   \n",
       "1  1286616  male patient in fifties prescribed no drugs\\n\\...          yes   \n",
       "2  1291281  female patient in seventies prescribed no drug...           no   \n",
       "3  1293851  female patient in seventies prescribed Nitrogl...          yes   \n",
       "4  1295870  male patient in seventies prescribed Pantopraz...          yes   \n",
       "\n",
       "  Definition 2 Rule A Rule B Rule C Insomnia  \n",
       "0           no     no     no     no       no  \n",
       "1          yes    yes     no    yes      yes  \n",
       "2           no     no     no     no       no  \n",
       "3          yes    yes    yes    yes      yes  \n",
       "4          yes    yes     no    yes      yes  "
      ]
     },
     "execution_count": 8,
     "metadata": {},
     "output_type": "execute_result"
    }
   ],
   "source": [
    "df.head()"
   ]
  },
  {
   "cell_type": "code",
   "execution_count": 9,
   "metadata": {},
   "outputs": [],
   "source": [
    "output_csv_dir = \"/home/ubuntu/Desktop/SMM4H-2025/notebooks/results/validation\"\n",
    "# Save CSV to results folder\n",
    "csv_output_path = os.path.join(output_csv_dir, \"output.csv\")\n",
    "df_final.to_csv(csv_output_path, index=False)"
   ]
  },
  {
   "cell_type": "code",
   "execution_count": 10,
   "metadata": {},
   "outputs": [
    {
     "name": "stdout",
     "output_type": "stream",
     "text": [
      "JSON file saved at results/subtask_1.json\n",
      "JSON file saved at results/subtask_2a.json\n",
      "JSON file saved at results/subtask_2b.json\n"
     ]
    }
   ],
   "source": [
    "# Generate JSON outputs\n",
    "convert_output_to_json(csv_output_path)"
   ]
  },
  {
   "cell_type": "code",
   "execution_count": 15,
   "metadata": {},
   "outputs": [
    {
     "name": "stdout",
     "output_type": "stream",
     "text": [
      "\n",
      "Contents of results/validation/subtask_1.json (first 5 entries):\n",
      "{'1280230.0': {'Insomnia': 'yes'}}\n",
      "{'1286616.0': {'Insomnia': 'yes'}}\n",
      "{'1291281.0': {'Insomnia': 'no'}}\n",
      "{'1293851.0': {'Insomnia': 'yes'}}\n",
      "{'1295870.0': {'Insomnia': 'yes'}}\n",
      "\n",
      "Contents of results/validation/subtask_2a.json (first 5 entries):\n",
      "{'1280230.0': {'Definition 1': 'yes', 'Definition 2': 'yes', 'Rule A': 'yes', 'Rule B': 'no', 'Rule C': 'no'}}\n",
      "{'1286616.0': {'Definition 1': 'no', 'Definition 2': 'yes', 'Rule A': 'no', 'Rule B': 'no', 'Rule C': 'yes'}}\n",
      "{'1291281.0': {'Definition 1': 'no', 'Definition 2': 'yes', 'Rule A': 'no', 'Rule B': 'no', 'Rule C': 'no'}}\n",
      "{'1293851.0': {'Definition 1': 'yes', 'Definition 2': 'yes', 'Rule A': 'yes', 'Rule B': 'yes', 'Rule C': 'yes'}}\n",
      "{'1295870.0': {'Definition 1': 'yes', 'Definition 2': 'yes', 'Rule A': 'yes', 'Rule B': 'no', 'Rule C': 'no'}}\n",
      "\n",
      "Contents of results/validation/subtask_2b.json (first 5 entries):\n",
      "{'1280230.0': {'Definition 1': {'label': 'yes', 'text': ['unable to sleep on either bipap\\nwaking up to sternal rub, coughed up mod amts yellow secretions']}, 'Definition 2': {'label': 'yes', 'text': [\"can't concentrate \\ncomplains about sleep quality\"]}, 'Rule B': {'label': 'no', 'text': []}, 'Rule C': {'label': 'no', 'text': []}}}\n",
      "{'1286616.0': {'Definition 1': {'label': 'no', 'text': []}, 'Definition 2': {'label': 'yes', 'text': ['[Pt. A little confused/forgetful re: events of the past few days. MAE. Received 10 mg Valium @ 0300 for insomnia with some effect.]']}, 'Rule B': {'label': 'no', 'text': []}, 'Rule C': {'label': 'yes', 'text': ['Valium']}}}\n",
      "{'1291281.0': {'Definition 1': {'label': 'no', 'text': []}, 'Definition 2': {'label': 'yes', 'text': ['\"very [Country **] and pleasant\"']}, 'Rule B': {'label': 'no', 'text': []}, 'Rule C': {'label': 'no', 'text': []}}}\n",
      "{'1293851.0': {'Definition 1': {'label': 'yes', 'text': ['\"unable to sleep\"']}, 'Definition 2': {'label': 'yes', 'text': ['\"I am just so tired...\"']}, 'Rule B': {'label': 'yes', 'text': ['Zolpidem']}, 'Rule C': {'label': 'yes', 'text': ['Trazodone, Trazadone']}}}\n",
      "{'1295870.0': {'Definition 1': {'label': 'yes', 'text': ['unable to sleep on either bipap\\nwaking up to sternal rub, coughed up mod amts yellow secretions']}, 'Definition 2': {'label': 'yes', 'text': [\"can't concentrate \\ncomplains about sleep quality\"]}, 'Rule B': {'label': 'no', 'text': []}, 'Rule C': {'label': 'no', 'text': []}}}\n"
     ]
    }
   ],
   "source": [
    "import json\n",
    "\n",
    "# Define the paths\n",
    "paths = [\n",
    "    \"results/validation/subtask_1.json\",\n",
    "    \"results/validation/subtask_2a.json\",\n",
    "    \"results/validation/subtask_2b.json\"\n",
    "]\n",
    "\n",
    "for path in paths:\n",
    "    print(f\"\\nContents of {path} (first 5 entries):\")\n",
    "    with open(path, \"r\") as f:\n",
    "        data = json.load(f)\n",
    "        \n",
    "        if isinstance(data, list):\n",
    "            for item in data[:5]:\n",
    "                print(item)\n",
    "        elif isinstance(data, dict):\n",
    "            for i, (k, v) in enumerate(data.items()):\n",
    "                print({k: v})\n",
    "                if i == 4:\n",
    "                    break\n",
    "        else:\n",
    "            print(\"Unsupported JSON structure.\")\n"
   ]
  },
  {
   "cell_type": "code",
   "execution_count": null,
   "metadata": {},
   "outputs": [],
   "source": []
  }
 ],
 "metadata": {
  "accelerator": "GPU",
  "colab": {
   "gpuType": "T4",
   "provenance": []
  },
  "kernelspec": {
   "display_name": "Python 3 (ipykernel)",
   "language": "python",
   "name": "python3"
  },
  "language_info": {
   "codemirror_mode": {
    "name": "ipython",
    "version": 3
   },
   "file_extension": ".py",
   "mimetype": "text/x-python",
   "name": "python",
   "nbconvert_exporter": "python",
   "pygments_lexer": "ipython3",
   "version": "3.10.16"
  }
 },
 "nbformat": 4,
 "nbformat_minor": 4
}
